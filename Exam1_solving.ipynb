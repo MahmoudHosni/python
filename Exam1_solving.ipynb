{
 "cells": [
  {
   "cell_type": "code",
   "execution_count": 8,
   "id": "3a36b6ec-71d0-4082-b6fd-16bc6b5f4414",
   "metadata": {
    "tags": []
   },
   "outputs": [
    {
     "name": "stdout",
     "output_type": "stream",
     "text": [
      "My name is Mahmoud Hosni,i'm 33 years old , my height is 1.68\n"
     ]
    }
   ],
   "source": [
    "#Exercise 1: Variables and Data Types\n",
    "name = \"Mahmoud Hosni\";\n",
    "age = 33;\n",
    "height = 1.68;\n",
    "pet = False;\n",
    "print(\"My name is {0},i'm {1} years old , my height is {2}\".format(name,age,height,));"
   ]
  },
  {
   "cell_type": "code",
   "execution_count": 13,
   "id": "970ef49e-c0bf-49f0-a086-43b55d27126d",
   "metadata": {
    "tags": []
   },
   "outputs": [
    {
     "name": "stdout",
     "output_type": "stream",
     "text": [
      "Even Number\n"
     ]
    }
   ],
   "source": [
    "#Exercise 2: Conditional Statements\n",
    "x = 20\n",
    "y = 15\n",
    "z = -23\n",
    "if x<0 :\n",
    "    print(\"Nagative Number\")\n",
    "elif x%2 ==0:    \n",
    "    print(\"Even Number\")\n",
    "else: print(\"Odd Number\")    "
   ]
  },
  {
   "cell_type": "code",
   "execution_count": 14,
   "id": "bb220a81-1ca4-4783-a0c4-b8e8c5a86504",
   "metadata": {
    "tags": []
   },
   "outputs": [
    {
     "name": "stdout",
     "output_type": "stream",
     "text": [
      "0\n",
      "1\n",
      "2\n",
      "3\n",
      "4\n",
      "5\n",
      "6\n",
      "7\n",
      "8\n",
      "9\n"
     ]
    }
   ],
   "source": [
    "#Exercise 3: Loops\n",
    "#Write a program that prints the numbers from 1 to 10 using a for loop\n",
    "for x in range(10):\n",
    "    print(x)"
   ]
  },
  {
   "cell_type": "code",
   "execution_count": 19,
   "id": "ec8f5bec-88a4-4509-98a3-7c0324e4dea9",
   "metadata": {
    "tags": []
   },
   "outputs": [
    {
     "name": "stdout",
     "output_type": "stream",
     "text": [
      "0\n",
      "2\n",
      "4\n",
      "6\n",
      "8\n",
      "10\n",
      "12\n",
      "14\n",
      "16\n",
      "18\n"
     ]
    }
   ],
   "source": [
    "#Modify the program to print the even numbers from 2 to 20 using a for loop\n",
    "for x in range(0,20,2):\n",
    "    print(x)"
   ]
  },
  {
   "cell_type": "code",
   "execution_count": 22,
   "id": "8207c75b-1d24-40b0-853b-f008a3823181",
   "metadata": {
    "tags": []
   },
   "outputs": [
    {
     "name": "stdout",
     "output_type": "stream",
     "text": [
      "10\n",
      "9\n",
      "8\n",
      "7\n",
      "6\n",
      "5\n",
      "4\n",
      "3\n",
      "2\n",
      "1\n",
      "Blastoff!\n"
     ]
    }
   ],
   "source": [
    "#Write a while loop that counts down from 10 to 1 and then prints \"Blastoff!\"\n",
    "x = 10\n",
    "while x>=1 :\n",
    "    print(x)\n",
    "    x-=1;\n",
    "print(\"Blastoff!\")    "
   ]
  },
  {
   "cell_type": "code",
   "execution_count": 25,
   "id": "0cf3d912-ba85-4a7d-a989-2462a347e662",
   "metadata": {
    "tags": []
   },
   "outputs": [
    {
     "name": "stdout",
     "output_type": "stream",
     "text": [
      "Apple\n",
      "Banana\n",
      "Charry\n"
     ]
    }
   ],
   "source": [
    "#Exercise 4: Lists and Loops\n",
    "\n",
    "#Create a list of your favorite fruits.\n",
    "myFavouriteFruits=[\"Apple\",\"Banana\",\"Charry\"]\n",
    "\n",
    "#Use a for loop to print each fruit's name from the list\n",
    "for x in myFavouriteFruits:\n",
    "  print(x)"
   ]
  },
  {
   "cell_type": "code",
   "execution_count": null,
   "id": "3be3b5ef-3b74-4c46-b321-78c5d1c0f8f5",
   "metadata": {},
   "outputs": [],
   "source": []
  }
 ],
 "metadata": {
  "kernelspec": {
   "display_name": "Python 3 (ipykernel)",
   "language": "python",
   "name": "python3"
  },
  "language_info": {
   "codemirror_mode": {
    "name": "ipython",
    "version": 3
   },
   "file_extension": ".py",
   "mimetype": "text/x-python",
   "name": "python",
   "nbconvert_exporter": "python",
   "pygments_lexer": "ipython3",
   "version": "3.11.4"
  }
 },
 "nbformat": 4,
 "nbformat_minor": 5
}
