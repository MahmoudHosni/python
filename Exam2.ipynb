{
 "cells": [
  {
   "cell_type": "code",
   "execution_count": 14,
   "id": "131a9519-5ed8-4288-b22c-3d9f18b57a57",
   "metadata": {
    "tags": []
   },
   "outputs": [
    {
     "name": "stdout",
     "output_type": "stream",
     "text": [
      "('cherry', 'apple')\n"
     ]
    }
   ],
   "source": [
    "#1. Write a Python program to add an item to a tuple.\n",
    "\n",
    "def add_fruit(name):\n",
    "    fruitTuble = (\"cherry\",)\n",
    "    #lst = list(fruitTuble)\n",
    "    #lst.append(name)\n",
    "    #fruitTuble = Tuble(lst)\n",
    "    y = (name,)\n",
    "    fruitTuble +=y\n",
    "    return fruitTuble\n",
    "\n",
    "print(add_fruit(\"apple\"))  "
   ]
  },
  {
   "cell_type": "code",
   "execution_count": 18,
   "id": "35302743-ac80-4e38-bb76-83c67b346d0c",
   "metadata": {
    "tags": []
   },
   "outputs": [
    {
     "name": "stdout",
     "output_type": "stream",
     "text": [
      "75\n"
     ]
    }
   ],
   "source": [
    "#2. Write a Python program to sum all the items in a list. \n",
    "\n",
    "def sum_list(lst):\n",
    "    summation = 0\n",
    "    for i in lst:\n",
    "        summation +=i\n",
    "    return summation\n",
    "\n",
    "print(sum_list([5,10,15,20,25]))"
   ]
  },
  {
   "cell_type": "code",
   "execution_count": 20,
   "id": "1c5fd2b7-a2e6-4ef4-8ba6-043c7f131599",
   "metadata": {
    "tags": []
   },
   "outputs": [
    {
     "name": "stdout",
     "output_type": "stream",
     "text": [
      "375000\n"
     ]
    }
   ],
   "source": [
    "#3. Write a Python program to multiply all the items in a list.\n",
    "\n",
    "def multiply_list(lst):\n",
    "    res = 1\n",
    "    for i in lst:\n",
    "        res *=i\n",
    "    return res\n",
    "\n",
    "print(multiply_list([5,10,15,20,25]))"
   ]
  },
  {
   "cell_type": "code",
   "execution_count": 26,
   "id": "b3d9cd79-347e-45ac-b47e-b91981f4b7d5",
   "metadata": {
    "tags": []
   },
   "outputs": [
    {
     "name": "stdout",
     "output_type": "stream",
     "text": [
      "11\n"
     ]
    }
   ],
   "source": [
    "#4. Write a Python program to get the smallest number from a list.\n",
    "\n",
    "def min_element(lst):\n",
    "    minElement = 9857412\n",
    "    for i in lst:\n",
    "        if  minElement > i :\n",
    "            minElement = i\n",
    "    return minElement\n",
    "\n",
    "print(min_element([67,32,11,43,65,98]))"
   ]
  },
  {
   "cell_type": "code",
   "execution_count": 27,
   "id": "43c3f3a7-30a0-413b-aafd-c92aaf41bcc0",
   "metadata": {
    "tags": []
   },
   "outputs": [
    {
     "name": "stdout",
     "output_type": "stream",
     "text": [
      "98\n"
     ]
    }
   ],
   "source": [
    "#5. Write a Python program to get the largest number from a list. \n",
    "\n",
    "def max_element(lst):\n",
    "    maxElement = 0\n",
    "    for i in lst:\n",
    "        if  maxElement < i :\n",
    "            maxElement = i\n",
    "    return maxElement\n",
    "\n",
    "print(max_element([67,32,11,43,65,98]))"
   ]
  },
  {
   "cell_type": "code",
   "execution_count": 33,
   "id": "45c71b52-2e80-4451-a8d6-517f68564f14",
   "metadata": {
    "tags": []
   },
   "outputs": [
    {
     "name": "stdout",
     "output_type": "stream",
     "text": [
      "2\n"
     ]
    }
   ],
   "source": [
    "#6. Write a Python program to count the number of strings from a given list of strings.\n",
    "\n",
    "def count_strings(lst):\n",
    "    count =0\n",
    "    for x in lst:\n",
    "        if type(x) == str:\n",
    "            count +=1\n",
    "    return count\n",
    "\n",
    "print(count_strings([\"ali\",5,\"ahmed\",10,15]))"
   ]
  },
  {
   "cell_type": "code",
   "execution_count": 34,
   "id": "3b127fe8-03d8-4c7c-a63f-4614035b06d1",
   "metadata": {
    "tags": []
   },
   "outputs": [
    {
     "name": "stdout",
     "output_type": "stream",
     "text": [
      "['hi', 'all', 1, 2, 3, 4]\n"
     ]
    }
   ],
   "source": [
    "#7. Write a Python program to clone or copy a list\n",
    " \n",
    "def clone_lst(lst):\n",
    "    new_lst =[]\n",
    "    for i in lst:\n",
    "        new_lst.append(i)\n",
    "    return new_lst\n",
    "\n",
    "print(clone_lst([\"hi\",\"all\",1,2,3,4]))"
   ]
  },
  {
   "cell_type": "code",
   "execution_count": 36,
   "id": "d47daba9-734e-439b-9df9-23f14ab193d0",
   "metadata": {
    "tags": []
   },
   "outputs": [
    {
     "name": "stdout",
     "output_type": "stream",
     "text": [
      "['ali', 'moj', 4, 2]\n"
     ]
    }
   ],
   "source": [
    "#8. Write a Python program to remove item(s) from a given set. \n",
    "\n",
    "def remove_item(lst,r_lst):\n",
    "    for i in r_lst:\n",
    "        lst.remove(i)\n",
    "        \n",
    "    return lst\n",
    "\n",
    "print(remove_item([\"ali\",\"ahmed\",\"moj\",4,3,2],[\"ahmed\",3]))"
   ]
  },
  {
   "cell_type": "code",
   "execution_count": 42,
   "id": "9546aeaf-ff07-4a6a-b494-55ada9a27b9b",
   "metadata": {
    "tags": []
   },
   "outputs": [
    {
     "name": "stdout",
     "output_type": "stream",
     "text": [
      "True\n"
     ]
    }
   ],
   "source": [
    "#9. Write a Python program to check if a set is a subset of another set. \n",
    "\n",
    "my_list = {1,2,3,4,5,6,7}\n",
    "sub_list = {2,5,7}\n",
    "\n",
    "new_list = my_list.intersection(sub_list) == sub_list\n",
    "print(new_list)"
   ]
  },
  {
   "cell_type": "code",
   "execution_count": 43,
   "id": "a3e00081-cfa9-4431-8a3c-ed3ad1b667a2",
   "metadata": {
    "tags": []
   },
   "outputs": [
    {
     "name": "stdout",
     "output_type": "stream",
     "text": [
      "set()\n"
     ]
    }
   ],
   "source": [
    "#10. Write a Python program to remove all elements from a given set. \n",
    "\n",
    "my_list = {1,2,3,4,5,6,7,8,9}\n",
    "\n",
    "my_list.clear()\n",
    "\n",
    "print(my_list)"
   ]
  },
  {
   "cell_type": "code",
   "execution_count": 48,
   "id": "486ad675-8bd7-4d59-b137-d6c3dca4eb24",
   "metadata": {
    "tags": []
   },
   "outputs": [
    {
     "name": "stdout",
     "output_type": "stream",
     "text": [
      "{'maximum': 871, 'minimum': 1}\n"
     ]
    }
   ],
   "source": [
    "#11. Write a Python program to find the maximum and minimum values in a set. \n",
    "\n",
    "def retieve_min_max(my_set):\n",
    "    max_no = 0\n",
    "    min_no = 9999999999\n",
    "    for i in my_set:\n",
    "        if  max_no < i :\n",
    "            max_no =i\n",
    "            \n",
    "        if   min_no > i :\n",
    "            min_no =i\n",
    "    return {\"maximum\":max_no,\"minimum\":min_no}\n",
    "\n",
    "print(retieve_min_max({121,1,54,98,87,63,53,254,674,23,871,264}))"
   ]
  },
  {
   "cell_type": "code",
   "execution_count": 49,
   "id": "1e8d6c7b-8558-4aa6-9430-8e88b7f3d3b7",
   "metadata": {
    "tags": []
   },
   "outputs": [
    {
     "name": "stdout",
     "output_type": "stream",
     "text": [
      "3\n"
     ]
    }
   ],
   "source": [
    "#12. Write a Python program to find the index of an item in a tuple. \n",
    "\n",
    "def retrieve_index(_tub,ele):\n",
    "    index = -1\n",
    "    for i in range(0,len(_tub)):\n",
    "        if _tub[i] == ele:\n",
    "            index = i\n",
    "    return index\n",
    "\n",
    "print(retrieve_index((2,3,4,5,6,7),5))"
   ]
  },
  {
   "cell_type": "code",
   "execution_count": 53,
   "id": "03d74578-555e-4cbf-b3cb-402904d238a2",
   "metadata": {
    "tags": []
   },
   "outputs": [
    {
     "name": "stdout",
     "output_type": "stream",
     "text": [
      "{0: 2, 1: 3, 2: 4, 3: 5, 4: 6, 5: 7}\n"
     ]
    }
   ],
   "source": [
    "#13. Write a Python program to convert a tuple to a dictionary. \n",
    "\n",
    "def convert_to_dict(_tub):\n",
    "    new_dict ={}\n",
    "    index = 0\n",
    "    for i in range(0,len(_tub)):\n",
    "        new_dict[i] = _tub[i]\n",
    "    return new_dict\n",
    "\n",
    "print(convert_to_dict((2,3,4,5,6,7)))"
   ]
  },
  {
   "cell_type": "code",
   "execution_count": 59,
   "id": "a01b9fd1-d5e5-4c61-80e8-30223050f60c",
   "metadata": {
    "tags": []
   },
   "outputs": [
    {
     "name": "stdout",
     "output_type": "stream",
     "text": [
      "[('ali', 'ahmed', 'sai', 'Paced'), (1, 7, 21, 32)]\n"
     ]
    }
   ],
   "source": [
    "#14. Write a Python program to unzip a list of tuples into individual lists. \n",
    "\n",
    "def unzip_tuples_tolist(lst):\n",
    "   res = list(zip(*lst))\n",
    "   return res     \n",
    "\n",
    "print(unzip_tuples_tolist([('ali', 1), ('ahmed', 7), ('sai', 21), ('Paced', 32)]))"
   ]
  },
  {
   "cell_type": "code",
   "execution_count": 60,
   "id": "6b197828-edd4-4df6-a2f2-3609a2d4881f",
   "metadata": {
    "tags": []
   },
   "outputs": [
    {
     "name": "stdout",
     "output_type": "stream",
     "text": [
      "(9, 8, 7, 2, 3, 5)\n"
     ]
    }
   ],
   "source": [
    "#15. Write a Python program to reverse a tuple. \n",
    "\n",
    "def reverse_tuple(_tup):\n",
    "    new_tub = _tup[::-1]\n",
    "    return new_tub\n",
    "\n",
    "print(reverse_tuple((5,3,2,7,8,9)))"
   ]
  },
  {
   "cell_type": "code",
   "execution_count": 65,
   "id": "fedff252-4fea-447d-af3b-d4b351187fe1",
   "metadata": {
    "tags": []
   },
   "outputs": [
    {
     "name": "stdout",
     "output_type": "stream",
     "text": [
      "{'ali': [93], 'ahmed': [45], 'mohamed': [65]}\n"
     ]
    }
   ],
   "source": [
    "#16. Write a Python program to convert a list of tuples into a dictionary. \n",
    "\n",
    "def convert_to_dict(_tub):\n",
    "    dict_new = dict()\n",
    " \n",
    "    for x, y in _tub:\n",
    "        dict_new.setdefault(x, []).append(y)\n",
    "        \n",
    "    return dict_new    \n",
    "\n",
    "print(convert_to_dict([(\"ali\", 93), (\"ahmed\", 45), (\"mohamed\", 65),]))"
   ]
  },
  {
   "cell_type": "code",
   "execution_count": null,
   "id": "0001a055-470b-4ba2-8127-3fa03c9a4827",
   "metadata": {},
   "outputs": [],
   "source": []
  }
 ],
 "metadata": {
  "kernelspec": {
   "display_name": "Python 3 (ipykernel)",
   "language": "python",
   "name": "python3"
  },
  "language_info": {
   "codemirror_mode": {
    "name": "ipython",
    "version": 3
   },
   "file_extension": ".py",
   "mimetype": "text/x-python",
   "name": "python",
   "nbconvert_exporter": "python",
   "pygments_lexer": "ipython3",
   "version": "3.11.4"
  }
 },
 "nbformat": 4,
 "nbformat_minor": 5
}
