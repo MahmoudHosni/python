{
 "cells": [
  {
   "cell_type": "code",
   "execution_count": 3,
   "id": "e635c30d-0dad-4a7b-ae54-cc977237b97d",
   "metadata": {
    "tags": []
   },
   "outputs": [
    {
     "name": "stdin",
     "output_type": "stream",
     "text": [
      "Enter your number? 10\n"
     ]
    },
    {
     "name": "stdout",
     "output_type": "stream",
     "text": [
      "0\n",
      "1\n",
      "1\n",
      "2\n",
      "3\n",
      "5\n",
      "8\n",
      "13\n",
      "21\n",
      "34\n"
     ]
    }
   ],
   "source": [
    "#1. Implement Fibonacci series using recursion.\n",
    "\n",
    "def run_Fibonacci(no):\n",
    "    first =0\n",
    "    second =1\n",
    "    count = 0\n",
    "    summation=0\n",
    "    while count < no :\n",
    "        print(first)\n",
    "        summation = first + second\n",
    "        first = second\n",
    "        second = summation\n",
    "        count +=1\n",
    "        \n",
    "no = input(\"Enter your number?\") \n",
    "run_Fibonacci(int(no))"
   ]
  },
  {
   "cell_type": "code",
   "execution_count": 4,
   "id": "2bd93a3a-44d5-4068-8969-1cf1602d5c01",
   "metadata": {
    "tags": []
   },
   "outputs": [
    {
     "name": "stdout",
     "output_type": "stream",
     "text": [
      "['ahmed', 'mahmoud', 'ismael']\n"
     ]
    }
   ],
   "source": [
    "#2. Write a Python program to find all the unique words and count the frequency of occurrence from a given list of strings. \n",
    "\n",
    "def unique_words(lst):\n",
    "    lst_unique =[]\n",
    "    for word in lst:\n",
    "        if lst.count(word) <=1:\n",
    "            lst_unique.append(word)\n",
    "            \n",
    "    return lst_unique\n",
    "\n",
    "print(unique_words([\"ali\",\"ahmed\",\"mahmoud\",\"ali\",\"ismael\"]))"
   ]
  },
  {
   "cell_type": "code",
   "execution_count": 11,
   "id": "b753ce40-648c-4211-9eb3-456f72da0974",
   "metadata": {
    "tags": []
   },
   "outputs": [
    {
     "name": "stdout",
     "output_type": "stream",
     "text": [
      "[{3, 7}, {4, 6}]\n"
     ]
    }
   ],
   "source": [
    "#3. Write a Python program that finds all pairs of elements in a list whose sum is equal to a given value.\n",
    "\n",
    "def find_pairs(lst,no):\n",
    "    accepted_lst =[]\n",
    "    for i in range(len(lst)):\n",
    "        for j in range(i+1,len(lst)):\n",
    "            if lst[i]+lst[j]==no:\n",
    "                accepted_lst.append({lst[i],lst[j]})\n",
    "     \n",
    "    return accepted_lst; \n",
    "        \n",
    "print(find_pairs([1,2,3,4,5,6,7,],10))            "
   ]
  },
  {
   "cell_type": "code",
   "execution_count": 16,
   "id": "b52d0b2e-83fc-4b02-aea8-2b5e5732ea2a",
   "metadata": {
    "tags": []
   },
   "outputs": [
    {
     "name": "stdout",
     "output_type": "stream",
     "text": [
      "{8, 9}\n"
     ]
    }
   ],
   "source": [
    "#4- Write a Python program to find the two numbers whose product is maximum among all the pairs in a given list of numbers \n",
    "\n",
    "def max_product(lst):\n",
    "    lst_set=set(lst)\n",
    "    max1=0\n",
    "    max2=0\n",
    "    product=-1\n",
    "    for i in lst_set:\n",
    "        for j in lst_set:\n",
    "            if i!=j  and i*j > product:\n",
    "                product = i*j\n",
    "                max1 = i\n",
    "                max2 = j\n",
    "     \n",
    "    return {max1,max2}     \n",
    "\n",
    "print(max_product([-1,-5,4,5,8,9,-4,-9]))"
   ]
  },
  {
   "cell_type": "code",
   "execution_count": 38,
   "id": "84790eee-08c7-4a02-b09a-d6a2c7bb9a79",
   "metadata": {
    "tags": []
   },
   "outputs": [
    {
     "name": "stdout",
     "output_type": "stream",
     "text": [
      "Not prime Number\n"
     ]
    }
   ],
   "source": [
    "#5-Write a Python function that takes a number as a parameter and checks whether the number is prime or not.\n",
    "\n",
    "def isPrimeNumber(no):\n",
    "    isPrime = False\n",
    "    \n",
    "    if no==1:\n",
    "        isPrime = False\n",
    "    else : \n",
    "        for i in range(2,no):\n",
    "            if no%i==0:\n",
    "                isPrime = True\n",
    "                break;\n",
    "                \n",
    "    if isPrime:\n",
    "        print(\"IS prime Number\")\n",
    "    else:\n",
    "        print(\"Not prime Number\")\n",
    "                \n",
    "            \n",
    "isPrimeNumber(5)          "
   ]
  },
  {
   "cell_type": "code",
   "execution_count": 40,
   "id": "1d636288-d198-4d58-9146-b4686af19b20",
   "metadata": {
    "tags": []
   },
   "outputs": [
    {
     "data": {
      "text/plain": [
       "[4, 2, 6, 8]"
      ]
     },
     "execution_count": 40,
     "metadata": {},
     "output_type": "execute_result"
    }
   ],
   "source": [
    "#6-Write a Python function  to print the even numbers from a given list. \n",
    "\n",
    "def get_evens(lst):\n",
    "    even_lst=[]\n",
    "    for i in lst:\n",
    "        if i%2==0:\n",
    "            even_lst.append(i)\n",
    "         \n",
    "    return even_lst\n",
    "\n",
    "get_evens([1,3,4,2,6,7,8,11])"
   ]
  },
  {
   "cell_type": "code",
   "execution_count": 43,
   "id": "b17bc9ef-abaa-48ae-a1a2-9a5965fbef40",
   "metadata": {
    "tags": []
   },
   "outputs": [
    {
     "name": "stdout",
     "output_type": "stream",
     "text": [
      "world hello \n"
     ]
    }
   ],
   "source": [
    "#7- Write a function that will take a given string and reverse the order of words\n",
    "\n",
    "def reverse_sentence(sentence):\n",
    "    lst = sentence.split()\n",
    "    lst.reverse()\n",
    "    new_str = \"\"\n",
    "    for x in lst:\n",
    "        new_str+=x+\" \"\n",
    "    return new_str\n",
    "\n",
    "print(reverse_sentence(\"hello world\"))"
   ]
  },
  {
   "cell_type": "code",
   "execution_count": 52,
   "id": "3cdd0f2f-02e5-4668-859e-86d96b5da505",
   "metadata": {
    "tags": []
   },
   "outputs": [
    {
     "data": {
      "text/plain": [
       "False"
      ]
     },
     "execution_count": 52,
     "metadata": {},
     "output_type": "execute_result"
    }
   ],
   "source": [
    "#8-Given an integer x, return true if x is a palindrome, and false otherwise.\n",
    "\n",
    "def isPalindrome(x):\n",
    "    str_no= str(x)\n",
    "    reversed_str=str_no[::-1]\n",
    "    return str_no==reversed_str\n",
    "\n",
    "isPalindrome(-121)"
   ]
  },
  {
   "cell_type": "code",
   "execution_count": 56,
   "id": "9a0d6015-9dc8-4c7d-922a-e341c458c56a",
   "metadata": {
    "tags": []
   },
   "outputs": [
    {
     "data": {
      "text/plain": [
       "True"
      ]
     },
     "execution_count": 56,
     "metadata": {},
     "output_type": "execute_result"
    }
   ],
   "source": [
    "#9.  Write a Python function that checks whether a passed string is a palindrome or not. \n",
    "\n",
    "def isPalindromeStr(st):\n",
    "    reversed_str=st[::-1]\n",
    "    return st==reversed_str\n",
    "\n",
    "isPalindromeStr(\"olo\")"
   ]
  },
  {
   "cell_type": "code",
   "execution_count": 64,
   "id": "2f169bf6-06c5-4e6a-941d-aafccc93243f",
   "metadata": {
    "tags": []
   },
   "outputs": [
    {
     "name": "stdout",
     "output_type": "stream",
     "text": [
      "1\n",
      "4\n",
      "9\n",
      "16\n",
      "25\n",
      "36\n",
      "49\n",
      "64\n",
      "81\n",
      "100\n",
      "121\n",
      "144\n",
      "169\n",
      "196\n",
      "225\n",
      "256\n",
      "289\n",
      "324\n",
      "361\n",
      "400\n",
      "441\n",
      "484\n",
      "529\n",
      "576\n",
      "625\n",
      "676\n",
      "729\n",
      "784\n",
      "841\n",
      "900\n"
     ]
    }
   ],
   "source": [
    "#10. Write a Python function to create and print a list where the values are the squares of numbers between 1 and 30 (both included). \n",
    "\n",
    "def printSquareRange(x):\n",
    "    for i in range(1,x+1):\n",
    "        print (i**2);\n",
    "\n",
    "printSquareRange(30)        "
   ]
  },
  {
   "cell_type": "code",
   "execution_count": 1,
   "id": "718acbd0-b1f4-4b7e-9a31-0d03a20ff7d5",
   "metadata": {
    "tags": []
   },
   "outputs": [
    {
     "name": "stdout",
     "output_type": "stream",
     "text": [
      "[1, 2, 3]\n",
      "[1, 3, 2]\n",
      "[2, 1, 3]\n",
      "[2, 3, 1]\n",
      "[3, 2, 1]\n",
      "[3, 1, 2]\n"
     ]
    }
   ],
   "source": [
    "#11. Write a Python function to generate all permutations of a list. \n",
    "\n",
    "def getPermutations(lst,k=0):\n",
    "    if k == len(lst):\n",
    "       print(lst)\n",
    "    else:\n",
    "      for i in range(k, len(lst)):\n",
    "         lst[k], lst[i] =lst[i] ,lst[k]\n",
    "         getPermutations(lst, k+1)\n",
    "         lst[k], lst[i] = lst[i], lst[k]\n",
    "        \n",
    "getPermutations([1,2,3])        \n",
    "            "
   ]
  },
  {
   "cell_type": "code",
   "execution_count": null,
   "id": "92662c83-e9f4-4715-9939-161043c51efa",
   "metadata": {},
   "outputs": [],
   "source": []
  }
 ],
 "metadata": {
  "kernelspec": {
   "display_name": "Python 3 (ipykernel)",
   "language": "python",
   "name": "python3"
  },
  "language_info": {
   "codemirror_mode": {
    "name": "ipython",
    "version": 3
   },
   "file_extension": ".py",
   "mimetype": "text/x-python",
   "name": "python",
   "nbconvert_exporter": "python",
   "pygments_lexer": "ipython3",
   "version": "3.11.4"
  }
 },
 "nbformat": 4,
 "nbformat_minor": 5
}
